{
 "cells": [
  {
   "cell_type": "markdown",
   "id": "87efe44d-b907-44c6-a374-8d5be858b46c",
   "metadata": {},
   "source": [
    "- generally if you observe any application \n",
    "\n",
    "- user will provide the value\n",
    "\n",
    "- backend some programming language will work \n",
    "\n",
    "- if any code the values we give is called **hard code**\n",
    "\n",
    "- always the code should be generic \n",
    "\n",
    "- in python the user can provide the value from keyboard using **inputs** "
   ]
  },
  {
   "cell_type": "code",
   "execution_count": 3,
   "id": "283794ba-07ee-43c2-a45f-017ea9970c9f",
   "metadata": {},
   "outputs": [
    {
     "name": "stdin",
     "output_type": "stream",
     "text": [
      " 30\n"
     ]
    },
    {
     "data": {
      "text/plain": [
       "'30'"
      ]
     },
     "execution_count": 3,
     "metadata": {},
     "output_type": "execute_result"
    }
   ],
   "source": [
    "input()"
   ]
  },
  {
   "cell_type": "code",
   "execution_count": null,
   "id": "fa6c2953-533d-485a-8fcb-d2d12f9c7933",
   "metadata": {},
   "outputs": [],
   "source": [
    "a=10"
   ]
  },
  {
   "cell_type": "code",
   "execution_count": 1,
   "id": "96022ee5-c722-46a0-88f1-afae223fac41",
   "metadata": {},
   "outputs": [
    {
     "name": "stdin",
     "output_type": "stream",
     "text": [
      " 3\n",
      " 4\n",
      " 5\n"
     ]
    },
    {
     "data": {
      "text/plain": [
       "'5'"
      ]
     },
     "execution_count": 1,
     "metadata": {},
     "output_type": "execute_result"
    }
   ],
   "source": [
    "input()\n",
    "input()\n",
    "input()\n"
   ]
  },
  {
   "cell_type": "code",
   "execution_count": 3,
   "id": "ad8ef865-e474-49d3-82c2-a55a68ed6f13",
   "metadata": {},
   "outputs": [
    {
     "name": "stdin",
     "output_type": "stream",
     "text": [
      "enter name: chetan\n",
      "enter age: 23\n",
      "enter city: nagpur\n"
     ]
    },
    {
     "data": {
      "text/plain": [
       "'nagpur'"
      ]
     },
     "execution_count": 3,
     "metadata": {},
     "output_type": "execute_result"
    }
   ],
   "source": [
    "input('enter name:')\n",
    "input('enter age:')\n",
    "input('enter city:')"
   ]
  },
  {
   "cell_type": "code",
   "execution_count": 5,
   "id": "9d321946-8109-42b9-b640-dfd6acbc5188",
   "metadata": {},
   "outputs": [
    {
     "data": {
      "text/plain": [
       "30"
      ]
     },
     "execution_count": 5,
     "metadata": {},
     "output_type": "execute_result"
    }
   ],
   "source": [
    "a=10\n",
    "b=20\n",
    "a+b"
   ]
  },
  {
   "cell_type": "code",
   "execution_count": 9,
   "id": "b284610c-2757-4b66-9195-3c6b64bc544f",
   "metadata": {},
   "outputs": [
    {
     "name": "stdin",
     "output_type": "stream",
     "text": [
      "enter value1: 10\n",
      "enter value: 30\n"
     ]
    },
    {
     "name": "stdout",
     "output_type": "stream",
     "text": [
      "1030\n"
     ]
    }
   ],
   "source": [
    "a=input('enter value1:')\n",
    "b=input('enter value2:') \n",
    "a+b"
   ]
  },
  {
   "cell_type": "code",
   "execution_count": 11,
   "id": "3a718466-197d-4a75-aaed-8c859f01803c",
   "metadata": {},
   "outputs": [
    {
     "name": "stdin",
     "output_type": "stream",
     "text": [
      "enter value1: 10\n",
      "enter value2: 30\n"
     ]
    },
    {
     "data": {
      "text/plain": [
       "40"
      ]
     },
     "execution_count": 11,
     "metadata": {},
     "output_type": "execute_result"
    }
   ],
   "source": [
    "a=int(input('enter value1:'))\n",
    "b=int(input('enter value2:')) \n",
    "a+b"
   ]
  },
  {
   "cell_type": "code",
   "execution_count": null,
   "id": "3cc7a107-8e48-4698-879e-38f86b81fd10",
   "metadata": {},
   "outputs": [],
   "source": []
  }
 ],
 "metadata": {
  "kernelspec": {
   "display_name": "Python 3 (ipykernel)",
   "language": "python",
   "name": "python3"
  },
  "language_info": {
   "codemirror_mode": {
    "name": "ipython",
    "version": 3
   },
   "file_extension": ".py",
   "mimetype": "text/x-python",
   "name": "python",
   "nbconvert_exporter": "python",
   "pygments_lexer": "ipython3",
   "version": "3.12.4"
  }
 },
 "nbformat": 4,
 "nbformat_minor": 5
}
