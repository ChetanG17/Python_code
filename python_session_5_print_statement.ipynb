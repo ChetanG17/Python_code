{
 "cells": [
  {
   "cell_type": "markdown",
   "id": "3e6bea91-bda1-4900-94a2-bd6de8d105e4",
   "metadata": {},
   "source": [
    "# print statement "
   ]
  },
  {
   "cell_type": "code",
   "execution_count": 7,
   "id": "e3cadca1-7f60-4a29-a119-967b5a02a2a1",
   "metadata": {},
   "outputs": [
    {
     "data": {
      "text/plain": [
       "30"
      ]
     },
     "execution_count": 7,
     "metadata": {},
     "output_type": "execute_result"
    }
   ],
   "source": [
    "num1=20\n",
    "num2=30\n",
    "(num1)\n",
    "(num2)"
   ]
  },
  {
   "cell_type": "code",
   "execution_count": 9,
   "id": "de7428ed-8f27-44a4-9a42-7abc4ffd0645",
   "metadata": {},
   "outputs": [
    {
     "name": "stdout",
     "output_type": "stream",
     "text": [
      "20\n",
      "30\n"
     ]
    }
   ],
   "source": [
    "num1=20\n",
    "num2=30\n",
    "print(num1)\n",
    "print(num2)"
   ]
  },
  {
   "cell_type": "code",
   "execution_count": 15,
   "id": "ab0c5c34-a098-4948-a307-134fdd7b5a89",
   "metadata": {},
   "outputs": [
    {
     "name": "stdout",
     "output_type": "stream",
     "text": [
      "20\n",
      "30\n"
     ]
    },
    {
     "data": {
      "text/plain": [
       "(20, 30)"
      ]
     },
     "execution_count": 15,
     "metadata": {},
     "output_type": "execute_result"
    }
   ],
   "source": [
    "num1=20\n",
    "num2=30\n",
    "print(num1),print(num2)\n",
    "num1,num2"
   ]
  },
  {
   "cell_type": "code",
   "execution_count": 13,
   "id": "4a0f13ee-03d1-4a4f-86fb-ec69629119c6",
   "metadata": {},
   "outputs": [
    {
     "name": "stdout",
     "output_type": "stream",
     "text": [
      "20 30\n"
     ]
    }
   ],
   "source": [
    "num1=20\n",
    "num2=30\n",
    "print(num1,num2)"
   ]
  },
  {
   "cell_type": "code",
   "execution_count": 17,
   "id": "7723cb69-f537-41bf-8b68-8b0aaa50a6a1",
   "metadata": {},
   "outputs": [
    {
     "name": "stdout",
     "output_type": "stream",
     "text": [
      "20 30 python\n"
     ]
    }
   ],
   "source": [
    "print(20,30,'python')"
   ]
  },
  {
   "cell_type": "code",
   "execution_count": 19,
   "id": "3aa05c62-fc1c-4596-bed2-9b72808649f3",
   "metadata": {},
   "outputs": [
    {
     "name": "stdout",
     "output_type": "stream",
     "text": [
      "the addition of 100 and 200 is 300\n"
     ]
    }
   ],
   "source": [
    "a=100\n",
    "b=200\n",
    "c=a+b\n",
    "# the addition of 100 and 200 is 300\n",
    "print('the addition of',a,'and',b,'is',c)"
   ]
  },
  {
   "cell_type": "code",
   "execution_count": 23,
   "id": "0cb5e4d9-dc65-4cbc-9471-39898c97e1f3",
   "metadata": {},
   "outputs": [
    {
     "name": "stdout",
     "output_type": "stream",
     "text": [
      "my name is python i am 10 years old and from hyd\n"
     ]
    }
   ],
   "source": [
    "name='python' \n",
    "age=10\n",
    "city='hyd'\n",
    "# my name is python i am 10 years old and from hyd\n",
    "print('my name is',name,'i am',age,'years old and from',city)"
   ]
  },
  {
   "cell_type": "markdown",
   "id": "347dc728-72bc-4458-a95b-996720c4eba1",
   "metadata": {},
   "source": [
    "# format method"
   ]
  },
  {
   "cell_type": "code",
   "execution_count": 32,
   "id": "e21e8468-ef2d-4d07-8263-c973237c6ae9",
   "metadata": {},
   "outputs": [
    {
     "name": "stdout",
     "output_type": "stream",
     "text": [
      "the addition of 100 and 200 is 300\n",
      "the addition of 100 and 200 is 300\n"
     ]
    }
   ],
   "source": [
    "a=100\n",
    "b=200\n",
    "c=a+b\n",
    "# the addition of 100 and 200 is 300\n",
    "print('the addition of 100 and 200 is 300')\n",
    "print('the addition of {} and {} is {}'.format(a,b,c))"
   ]
  },
  {
   "cell_type": "code",
   "execution_count": 36,
   "id": "69985590-66a7-4f04-a252-632d0a5a3c3d",
   "metadata": {},
   "outputs": [
    {
     "name": "stdout",
     "output_type": "stream",
     "text": [
      "my name is python i am 10 years old and from hyd\n",
      "my name is python i am 10 years old and from hyd\n",
      "my name is 10 i am python years old and from hyd\n"
     ]
    }
   ],
   "source": [
    "name='python' \n",
    "age=10\n",
    "city='hyd'\n",
    "# my name is python i am 10 years old and from hyd\n",
    "print('my name is',name,'i am',age,'years old and from',city)\n",
    "print('my name is {} i am {} years old and from {}'.format(name,age,city))\n",
    "print('my name is {} i am {} years old and from {}'.format(age,name,city))"
   ]
  },
  {
   "cell_type": "code",
   "execution_count": 43,
   "id": "61067a3a-b3a7-4831-a5e1-668d7b75e2b5",
   "metadata": {},
   "outputs": [
    {
     "name": "stdout",
     "output_type": "stream",
     "text": [
      "the addition of 100 and 200is 300\n",
      "the sub of 100 and 200 is -100\n",
      "the mul of 100 and 200 is 20000\n",
      "div of 100 and 200 is 0.5\n"
     ]
    }
   ],
   "source": [
    "n1=100\n",
    "n2=200\n",
    "add=n1+n2\n",
    "sub=n1-n2\n",
    "mul=n1*n2\n",
    "div=n1/n2\n",
    "#the addition of 100 and 200 is 300\n",
    "#the sub of 100 and 200 is -100\n",
    "#the mul of 100 and 200 is 20000\n",
    "# div of 100 and 200 is 0.5\n",
    "print('the addition of {} and {}is {}'.format(n1,n2,n1+n2))\n",
    "print('the sub of {} and {} is {}'.format(n1,n2,n1-n2))\n",
    "print('the mul of {} and {} is {}'.format(n1,n2,n1*n2))\n",
    "print('div of {} and {} is {}'.format(n1,n2,n1/n2))"
   ]
  },
  {
   "cell_type": "markdown",
   "id": "8d28cc4d-2153-49ff-9f92-60ec7c557562",
   "metadata": {},
   "source": [
    "# f string method "
   ]
  },
  {
   "cell_type": "code",
   "execution_count": 45,
   "id": "c4ff3030-8d5b-4723-b16d-d590818dcff7",
   "metadata": {},
   "outputs": [
    {
     "name": "stdout",
     "output_type": "stream",
     "text": [
      "the addition of 100 and 200 is 300.\n"
     ]
    }
   ],
   "source": [
    "a=100\n",
    "b=200\n",
    "c=a+b\n",
    "print(f'the addition of {a} and {b} is {c}.')"
   ]
  },
  {
   "cell_type": "code",
   "execution_count": 47,
   "id": "e7851ad5-7f1a-4601-9214-8594ade2aa47",
   "metadata": {},
   "outputs": [
    {
     "name": "stdout",
     "output_type": "stream",
     "text": [
      "the addition of 100 and 200is 300\n",
      "the sub of 100 and 200 is -100\n",
      "the mul of 100 and 200 is 20000\n",
      "div of 100 and 200 is 0.5\n"
     ]
    }
   ],
   "source": [
    "n1=100\n",
    "n2=200\n",
    "add=n1+n2\n",
    "sub=n1-n2\n",
    "mul=n1*n2\n",
    "div=n1/n2\n",
    "#the addition of 100 and 200 is 300\n",
    "#the sub of 100 and 200 is -100\n",
    "#the mul of 100 and 200 is 20000\n",
    "# div of 100 and 200 is 0.5\n",
    "print(f'the addition of {n1} and {n2}is {n1+n2}')\n",
    "print(f'the sub of {n1} and {n2} is {n1-n2}')\n",
    "print(f'the mul of {n1} and {n2} is {n1*n2}')\n",
    "print(f'div of {n1} and {n2} is {n1/n2}')"
   ]
  },
  {
   "cell_type": "markdown",
   "id": "a198c868-2059-4775-b995-29d5fd718bdc",
   "metadata": {},
   "source": [
    "- we have a situation want to combine two print statement "
   ]
  },
  {
   "cell_type": "markdown",
   "id": "509076e8-0f0e-4d87-b9c6-50be9c3bf2f0",
   "metadata": {},
   "source": [
    "$end operator$"
   ]
  },
  {
   "cell_type": "code",
   "execution_count": 53,
   "id": "16fb8e9f-919d-49c6-8e09-ac35088aa0d8",
   "metadata": {},
   "outputs": [
    {
     "name": "stdout",
     "output_type": "stream",
     "text": [
      "20==>30\n"
     ]
    }
   ],
   "source": [
    "print(20,end='==>')\n",
    "a=20\n",
    "print(30)"
   ]
  },
  {
   "cell_type": "code",
   "execution_count": 59,
   "id": "300aa498-a8f1-4884-9ff2-c68f51337f73",
   "metadata": {},
   "outputs": [
    {
     "name": "stdout",
     "output_type": "stream",
     "text": [
      "1==2==3\n"
     ]
    }
   ],
   "source": [
    "print(1,end='==')\n",
    "print(2,end='==')\n",
    "print(3)\n",
    "      "
   ]
  },
  {
   "cell_type": "code",
   "execution_count": 61,
   "id": "81816555-d3a4-4e52-ac4f-712b014e3798",
   "metadata": {},
   "outputs": [
    {
     "name": "stdout",
     "output_type": "stream",
     "text": [
      "20 **** 30\n"
     ]
    }
   ],
   "source": [
    "print(20,'****',30)\n",
    "\n"
   ]
  },
  {
   "cell_type": "markdown",
   "id": "83e57343-e7b0-493f-baea-388a8f55fa97",
   "metadata": {},
   "source": [
    "- we want to seperate the multiple variable in one print statement"
   ]
  },
  {
   "cell_type": "code",
   "execution_count": null,
   "id": "b86586f2-1fed-4776-bb95-89b25bb686c5",
   "metadata": {},
   "outputs": [],
   "source": [
    "print(20,30)"
   ]
  },
  {
   "cell_type": "markdown",
   "id": "2951bdc9-1b39-4dd8-a2be-fbe3a5e00265",
   "metadata": {},
   "source": [
    "$ seperator $"
   ]
  },
  {
   "cell_type": "code",
   "execution_count": 65,
   "id": "146c27d5-ce72-4c8c-b731-feae6cb10ce0",
   "metadata": {},
   "outputs": [
    {
     "name": "stdout",
     "output_type": "stream",
     "text": [
      "20----->30\n"
     ]
    }
   ],
   "source": [
    "print(20,30,sep='----->')"
   ]
  },
  {
   "cell_type": "code",
   "execution_count": 67,
   "id": "ef74df1b-5983-4c4e-871e-e799e2ed1739",
   "metadata": {},
   "outputs": [
    {
     "name": "stdout",
     "output_type": "stream",
     "text": [
      "20----->30----->50\n"
     ]
    }
   ],
   "source": [
    "print(20,30,50,sep='----->')"
   ]
  },
  {
   "cell_type": "code",
   "execution_count": 69,
   "id": "ab3732f2-6fc7-4bc3-8905-0a8ec9ba72aa",
   "metadata": {},
   "outputs": [
    {
     "name": "stdout",
     "output_type": "stream",
     "text": [
      "20>>>>>30>>>>>50\n"
     ]
    }
   ],
   "source": [
    "print(20,30,50,sep='>>>>>')"
   ]
  },
  {
   "cell_type": "markdown",
   "id": "dab7793b-ccef-45f5-8cb9-4eb10391ed6a",
   "metadata": {},
   "source": [
    "- end operator used to combine multiple print statement\n",
    "   \n",
    "- sep operator use to seperate the multiple variable in a single print stetementm"
   ]
  },
  {
   "cell_type": "code",
   "execution_count": 75,
   "id": "c6385a7a-b9d5-4f1e-a8ba-eb6b352610b8",
   "metadata": {},
   "outputs": [
    {
     "name": "stdout",
     "output_type": "stream",
     "text": [
      "the addition of 3+4 id 7 .\n"
     ]
    }
   ],
   "source": [
    "print('the addition of 3+4 id',3+4,'.')\n"
   ]
  },
  {
   "cell_type": "code",
   "execution_count": 77,
   "id": "73f3aa07-0455-4bfe-8e29-590b45bb5094",
   "metadata": {},
   "outputs": [
    {
     "ename": "SyntaxError",
     "evalue": "invalid syntax (2016820889.py, line 1)",
     "output_type": "error",
     "traceback": [
      "\u001b[1;36m  Cell \u001b[1;32mIn[77], line 1\u001b[1;36m\u001b[0m\n\u001b[1;33m    the additon of 3+4 is 7.\u001b[0m\n\u001b[1;37m        ^\u001b[0m\n\u001b[1;31mSyntaxError\u001b[0m\u001b[1;31m:\u001b[0m invalid syntax\n"
     ]
    }
   ],
   "source": [
    "the additon of 3+4 is 7."
   ]
  },
  {
   "cell_type": "code",
   "execution_count": 81,
   "id": "ecd21ec3-b70f-44cd-938d-a1fd4fe6649d",
   "metadata": {},
   "outputs": [
    {
     "name": "stdout",
     "output_type": "stream",
     "text": [
      "the addition of 3+4 is 7.\n",
      "the addition of 3+4 is 7.\n",
      "the addition of 3+4 is 7.\n"
     ]
    }
   ],
   "source": [
    "print(f'the addition of 3+4 is {3+4}.')\n",
    "print('the addition of 3+4 is ',3+4,\".\",sep='')\n",
    "print('the addition of 3+4 is {}.'.format(3+4))"
   ]
  },
  {
   "cell_type": "markdown",
   "id": "95918e4b-112b-4504-9532-749f3b2fc0d1",
   "metadata": {},
   "source": [
    "- basic \n",
    "- fromat\n",
    "- f string \n",
    "- seperator\n",
    "- end"
   ]
  },
  {
   "cell_type": "code",
   "execution_count": null,
   "id": "fa44c7dd-ab45-4dfc-8bee-d78848a82a9e",
   "metadata": {},
   "outputs": [],
   "source": []
  }
 ],
 "metadata": {
  "kernelspec": {
   "display_name": "Python 3 (ipykernel)",
   "language": "python",
   "name": "python3"
  },
  "language_info": {
   "codemirror_mode": {
    "name": "ipython",
    "version": 3
   },
   "file_extension": ".py",
   "mimetype": "text/x-python",
   "name": "python",
   "nbconvert_exporter": "python",
   "pygments_lexer": "ipython3",
   "version": "3.12.4"
  }
 },
 "nbformat": 4,
 "nbformat_minor": 5
}
