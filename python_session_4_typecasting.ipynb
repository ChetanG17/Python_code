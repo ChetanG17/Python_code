{
 "cells": [
  {
   "cell_type": "markdown",
   "id": "f6ef2eaa-e2c7-4edb-a7d6-9b2a06e4a8e7",
   "metadata": {},
   "source": [
    "# Type Cast\n"
   ]
  },
  {
   "cell_type": "markdown",
   "id": "93c21ba3-df97-4875-a650-084d70eb0b7e",
   "metadata": {},
   "source": [
    "- changing one datatype to another datatype\n",
    "\n",
    "- means integer to float\n",
    "\n",
    "- means integer to str\n",
    "\n",
    "- integer to boolean"
   ]
  },
  {
   "cell_type": "code",
   "execution_count": 4,
   "id": "8d01173f-ce44-43e8-824f-131ea3bcb2f6",
   "metadata": {},
   "outputs": [
    {
     "data": {
      "text/plain": [
       "int"
      ]
     },
     "execution_count": 4,
     "metadata": {},
     "output_type": "execute_result"
    }
   ],
   "source": [
    "number=100\n",
    "type(number)"
   ]
  },
  {
   "cell_type": "code",
   "execution_count": 6,
   "id": "123e8b9b-160e-4660-86b4-50d4c4761bed",
   "metadata": {},
   "outputs": [
    {
     "data": {
      "text/plain": [
       "100.0"
      ]
     },
     "execution_count": 6,
     "metadata": {},
     "output_type": "execute_result"
    }
   ],
   "source": [
    "#int to float\n",
    "float(number)\n"
   ]
  },
  {
   "cell_type": "code",
   "execution_count": 10,
   "id": "4f1f82e6-cfd1-4fa5-bddd-b7780b5c3027",
   "metadata": {},
   "outputs": [
    {
     "data": {
      "text/plain": [
       "(100.0, float)"
      ]
     },
     "execution_count": 10,
     "metadata": {},
     "output_type": "execute_result"
    }
   ],
   "source": [
    "#int to float\n",
    "float_number=float(number)\n",
    "float_number,type(float_number)"
   ]
  },
  {
   "cell_type": "code",
   "execution_count": 14,
   "id": "e7dbc861-9520-4655-bb7e-15e2cc6da0fc",
   "metadata": {},
   "outputs": [
    {
     "data": {
      "text/plain": [
       "'100'"
      ]
     },
     "execution_count": 14,
     "metadata": {},
     "output_type": "execute_result"
    }
   ],
   "source": [
    "#int to string \n",
    "string_num=str(number)\n",
    "string_num\n"
   ]
  },
  {
   "cell_type": "code",
   "execution_count": 16,
   "id": "51718e8b-cb2b-48ea-b4bf-b36fa9b91b62",
   "metadata": {},
   "outputs": [
    {
     "data": {
      "text/plain": [
       "True"
      ]
     },
     "execution_count": 16,
     "metadata": {},
     "output_type": "execute_result"
    }
   ],
   "source": [
    "bool (number)"
   ]
  },
  {
   "cell_type": "code",
   "execution_count": 19,
   "id": "6935590e-0464-4e9c-b93e-0ca9c3ea9ecf",
   "metadata": {},
   "outputs": [
    {
     "name": "stdout",
     "output_type": "stream",
     "text": [
      "100.0\n",
      "100\n",
      "True\n"
     ]
    }
   ],
   "source": [
    "print (float(100))\n",
    "print(str(100))\n",
    "print(bool(100))"
   ]
  },
  {
   "cell_type": "code",
   "execution_count": 21,
   "id": "28f9e74c-340f-4078-965b-7f98ee7a5e2f",
   "metadata": {},
   "outputs": [
    {
     "name": "stdout",
     "output_type": "stream",
     "text": [
      "-100.0\n",
      "-100\n",
      "True\n"
     ]
    }
   ],
   "source": [
    "print (float(-100))\n",
    "print(str(-100))\n",
    "print(bool(-100))"
   ]
  },
  {
   "cell_type": "markdown",
   "id": "9c94bc0d-e425-4727-a1a2-626cd965e258",
   "metadata": {},
   "source": [
    "**note**\n",
    "\n",
    "- boolean conversion of any integer value other thean zero becomes true \n",
    "\n",
    "- boolean conversion of zero is false"
   ]
  },
  {
   "cell_type": "code",
   "execution_count": 26,
   "id": "6d5e9abf-2a39-493e-8914-e941154bbc49",
   "metadata": {},
   "outputs": [
    {
     "data": {
      "text/plain": [
       "float"
      ]
     },
     "execution_count": 26,
     "metadata": {},
     "output_type": "execute_result"
    }
   ],
   "source": [
    "number=100.23\n",
    "type(number)"
   ]
  },
  {
   "cell_type": "code",
   "execution_count": 28,
   "id": "cf5ac304-c88c-4822-9a72-a462feac3365",
   "metadata": {},
   "outputs": [
    {
     "data": {
      "text/plain": [
       "100"
      ]
     },
     "execution_count": 28,
     "metadata": {},
     "output_type": "execute_result"
    }
   ],
   "source": [
    "# float to other dataypes\n",
    "\n",
    "int(number)\n"
   ]
  },
  {
   "cell_type": "code",
   "execution_count": 30,
   "id": "445bf0b7-1a46-4e83-b960-ce2034924d87",
   "metadata": {},
   "outputs": [
    {
     "name": "stdout",
     "output_type": "stream",
     "text": [
      "100\n",
      "100.23\n",
      "True\n"
     ]
    }
   ],
   "source": [
    "print (int(100.23))\n",
    "print(str(100.23))\n",
    "print(bool(100.23))"
   ]
  },
  {
   "cell_type": "code",
   "execution_count": 32,
   "id": "8c8f3835-059d-4608-9047-15f20a2f818d",
   "metadata": {},
   "outputs": [
    {
     "name": "stdout",
     "output_type": "stream",
     "text": [
      "-100\n",
      "-100.23\n",
      "True\n"
     ]
    }
   ],
   "source": [
    "print (int(-100.23))\n",
    "print(str(-100.23))\n",
    "print(bool(-100.23))"
   ]
  },
  {
   "cell_type": "code",
   "execution_count": 34,
   "id": "a7f7e8bd-15d0-495f-9aa9-5e4c719f2670",
   "metadata": {},
   "outputs": [
    {
     "name": "stdout",
     "output_type": "stream",
     "text": [
      "0\n",
      "0\n",
      "False\n"
     ]
    }
   ],
   "source": [
    "print (int(0))\n",
    "print(str(0))\n",
    "print(bool(0))"
   ]
  },
  {
   "cell_type": "code",
   "execution_count": 38,
   "id": "d4164604-ba25-40e1-996b-8161bcdfcc2d",
   "metadata": {},
   "outputs": [
    {
     "data": {
      "text/plain": [
       "True"
      ]
     },
     "execution_count": 38,
     "metadata": {},
     "output_type": "execute_result"
    }
   ],
   "source": [
    "bool('10')"
   ]
  },
  {
   "cell_type": "code",
   "execution_count": 42,
   "id": "8cd49b01-fc5a-4059-8eea-e56ea9d3679f",
   "metadata": {},
   "outputs": [
    {
     "data": {
      "text/plain": [
       "True"
      ]
     },
     "execution_count": 42,
     "metadata": {},
     "output_type": "execute_result"
    }
   ],
   "source": [
    "int('10')\n",
    "float('10')\n",
    "bool('10')"
   ]
  },
  {
   "cell_type": "code",
   "execution_count": 48,
   "id": "3de1a953-aead-40cc-b376-ff9fc21582a3",
   "metadata": {},
   "outputs": [
    {
     "ename": "ValueError",
     "evalue": "invalid literal for int() with base 10: '10.5'",
     "output_type": "error",
     "traceback": [
      "\u001b[1;31m---------------------------------------------------------------------------\u001b[0m",
      "\u001b[1;31mValueError\u001b[0m                                Traceback (most recent call last)",
      "Cell \u001b[1;32mIn[48], line 1\u001b[0m\n\u001b[1;32m----> 1\u001b[0m \u001b[38;5;28mint\u001b[39m(\u001b[38;5;124m'\u001b[39m\u001b[38;5;124m10.5\u001b[39m\u001b[38;5;124m'\u001b[39m)\n\u001b[0;32m      2\u001b[0m \u001b[38;5;28mfloat\u001b[39m(\u001b[38;5;124m'\u001b[39m\u001b[38;5;124m10.5\u001b[39m\u001b[38;5;124m'\u001b[39m)\n\u001b[0;32m      3\u001b[0m \u001b[38;5;28mbool\u001b[39m(\u001b[38;5;124m'\u001b[39m\u001b[38;5;124m10.5\u001b[39m\u001b[38;5;124m'\u001b[39m)\n",
      "\u001b[1;31mValueError\u001b[0m: invalid literal for int() with base 10: '10.5'"
     ]
    }
   ],
   "source": [
    "int('10.5')\n",
    "float('10.5')\n",
    "bool('10.5')"
   ]
  },
  {
   "cell_type": "code",
   "execution_count": null,
   "id": "e86fd93d-feaa-4aa6-8d01-cdfcd04c09d3",
   "metadata": {},
   "outputs": [],
   "source": [
    "int('10')    #works \n",
    "int('10.5')  #not works "
   ]
  },
  {
   "cell_type": "code",
   "execution_count": 50,
   "id": "48b1b3d3-8791-4724-8978-4097e457bb27",
   "metadata": {},
   "outputs": [
    {
     "data": {
      "text/plain": [
       "10.5"
      ]
     },
     "execution_count": 50,
     "metadata": {},
     "output_type": "execute_result"
    }
   ],
   "source": [
    "float('10')  #10.0\n",
    "float('10.5') #1-.5"
   ]
  },
  {
   "cell_type": "code",
   "execution_count": 52,
   "id": "7514b3bb-b866-4994-8ca3-716252b0b321",
   "metadata": {},
   "outputs": [
    {
     "data": {
      "text/plain": [
       "True"
      ]
     },
     "execution_count": 52,
     "metadata": {},
     "output_type": "execute_result"
    }
   ],
   "source": [
    "bool('10')\n"
   ]
  },
  {
   "cell_type": "code",
   "execution_count": 54,
   "id": "957ee0af-8ba9-4efc-93d7-e6e7d71a809c",
   "metadata": {},
   "outputs": [
    {
     "data": {
      "text/plain": [
       "True"
      ]
     },
     "execution_count": 54,
     "metadata": {},
     "output_type": "execute_result"
    }
   ],
   "source": [
    "bool('10.5')"
   ]
  },
  {
   "cell_type": "code",
   "execution_count": 56,
   "id": "3e67db84-7a7a-49b5-989c-c03aad516543",
   "metadata": {},
   "outputs": [
    {
     "data": {
      "text/plain": [
       "10"
      ]
     },
     "execution_count": 56,
     "metadata": {},
     "output_type": "execute_result"
    }
   ],
   "source": [
    "#10.5 ==== '10'\n",
    "\n",
    "int(float('10.5'))"
   ]
  },
  {
   "cell_type": "code",
   "execution_count": 60,
   "id": "0a2c9987-e329-4301-9f89-c7e729ee9885",
   "metadata": {},
   "outputs": [
    {
     "data": {
      "text/plain": [
       "False"
      ]
     },
     "execution_count": 60,
     "metadata": {},
     "output_type": "execute_result"
    }
   ],
   "source": [
    "bool(10)    #t\n",
    "bool('10')  #t\n",
    "bool('10.5')#t \n",
    "bool(10.5)  #t\n",
    "bool(0)     #f\n",
    "bool(0.0)   #f\n",
    "bool('0')   #t\n",
    "bool('0.0') #t\n",
    "bool('apple')#t\n",
    "bool('')     #t"
   ]
  },
  {
   "cell_type": "code",
   "execution_count": null,
   "id": "67b380fd-cf8f-4d3c-b369-38ac715bd7d2",
   "metadata": {},
   "outputs": [],
   "source": []
  }
 ],
 "metadata": {
  "kernelspec": {
   "display_name": "Python 3 (ipykernel)",
   "language": "python",
   "name": "python3"
  },
  "language_info": {
   "codemirror_mode": {
    "name": "ipython",
    "version": 3
   },
   "file_extension": ".py",
   "mimetype": "text/x-python",
   "name": "python",
   "nbconvert_exporter": "python",
   "pygments_lexer": "ipython3",
   "version": "3.12.4"
  }
 },
 "nbformat": 4,
 "nbformat_minor": 5
}
