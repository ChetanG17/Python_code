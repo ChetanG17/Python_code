{
 "cells": [
  {
   "cell_type": "markdown",
   "id": "10e632a5-5ab1-4a2b-9f08-d38ea605dee3",
   "metadata": {},
   "source": [
    "- conditional statements refers to execute the code based on some condition \n",
    "\n",
    "- have mainy three types \n",
    "\n",
    "  - if\n",
    "\n",
    "  - if else \n",
    "\n",
    "  - if elif else"
   ]
  },
  {
   "cell_type": "code",
   "execution_count": 2,
   "id": "c62f7c0a-9dd1-4d59-9932-7d065d27d166",
   "metadata": {},
   "outputs": [
    {
     "name": "stdout",
     "output_type": "stream",
     "text": [
      "hello good morning\n"
     ]
    }
   ],
   "source": [
    "print('hello good morning')"
   ]
  },
  {
   "cell_type": "code",
   "execution_count": 4,
   "id": "761980f0-50cb-4ba5-80cf-983495184297",
   "metadata": {},
   "outputs": [
    {
     "ename": "SyntaxError",
     "evalue": "invalid syntax (2927510622.py, line 1)",
     "output_type": "error",
     "traceback": [
      "\u001b[1;36m  Cell \u001b[1;32mIn[4], line 1\u001b[1;36m\u001b[0m\n\u001b[1;33m    if <condition>:\u001b[0m\n\u001b[1;37m       ^\u001b[0m\n\u001b[1;31mSyntaxError\u001b[0m\u001b[1;31m:\u001b[0m invalid syntax\n"
     ]
    }
   ],
   "source": [
    "if <condition>:"
   ]
  },
  {
   "cell_type": "code",
   "execution_count": 6,
   "id": "05addf4d-4611-4d76-8ac6-79fdb5db9028",
   "metadata": {},
   "outputs": [
    {
     "ename": "SyntaxError",
     "evalue": "invalid syntax (1569169992.py, line 1)",
     "output_type": "error",
     "traceback": [
      "\u001b[1;36m  Cell \u001b[1;32mIn[6], line 1\u001b[1;36m\u001b[0m\n\u001b[1;33m    if <a+b>:\u001b[0m\n\u001b[1;37m       ^\u001b[0m\n\u001b[1;31mSyntaxError\u001b[0m\u001b[1;31m:\u001b[0m invalid syntax\n"
     ]
    }
   ],
   "source": [
    "if <a+b>:\n",
    "    "
   ]
  },
  {
   "cell_type": "code",
   "execution_count": 8,
   "id": "66f11784-8827-4929-ab5c-86604dd79491",
   "metadata": {},
   "outputs": [
    {
     "ename": "SyntaxError",
     "evalue": "incomplete input (3466122606.py, line 1)",
     "output_type": "error",
     "traceback": [
      "\u001b[1;36m  Cell \u001b[1;32mIn[8], line 1\u001b[1;36m\u001b[0m\n\u001b[1;33m    if a+b:\u001b[0m\n\u001b[1;37m           ^\u001b[0m\n\u001b[1;31mSyntaxError\u001b[0m\u001b[1;31m:\u001b[0m incomplete input\n"
     ]
    }
   ],
   "source": [
    "if a+b:"
   ]
  },
  {
   "cell_type": "code",
   "execution_count": 10,
   "id": "df6cbdab-f4e4-419b-b1ed-1c2ccc3ef949",
   "metadata": {},
   "outputs": [
    {
     "ename": "SyntaxError",
     "evalue": "incomplete input (2758060458.py, line 1)",
     "output_type": "error",
     "traceback": [
      "\u001b[1;36m  Cell \u001b[1;32mIn[10], line 1\u001b[1;36m\u001b[0m\n\u001b[1;33m    if a>b:\u001b[0m\n\u001b[1;37m           ^\u001b[0m\n\u001b[1;31mSyntaxError\u001b[0m\u001b[1;31m:\u001b[0m incomplete input\n"
     ]
    }
   ],
   "source": [
    "if a>b:"
   ]
  },
  {
   "cell_type": "markdown",
   "id": "78029d98-c411-4957-9ffc-0997306cb3e4",
   "metadata": {},
   "source": [
    "# syntax "
   ]
  },
  {
   "cell_type": "code",
   "execution_count": null,
   "id": "d020fe75-3de9-4d57-8b2e-24aaed3e37b1",
   "metadata": {},
   "outputs": [],
   "source": [
    "if <condition>\n",
    "     <write your code here>"
   ]
  },
  {
   "cell_type": "code",
   "execution_count": 15,
   "id": "198e421b-ad5b-4a5e-932e-a167d8f6fd9d",
   "metadata": {},
   "outputs": [
    {
     "name": "stdout",
     "output_type": "stream",
     "text": [
      "correct condition\n"
     ]
    }
   ],
   "source": [
    "num=10\n",
    "if num>0:\n",
    "    print('correct condition')"
   ]
  },
  {
   "cell_type": "code",
   "execution_count": null,
   "id": "228f3c90-28c0-4cf1-b6d9-a0ac34b59b61",
   "metadata": {},
   "outputs": [],
   "source": []
  }
 ],
 "metadata": {
  "kernelspec": {
   "display_name": "Python 3 (ipykernel)",
   "language": "python",
   "name": "python3"
  },
  "language_info": {
   "codemirror_mode": {
    "name": "ipython",
    "version": 3
   },
   "file_extension": ".py",
   "mimetype": "text/x-python",
   "name": "python",
   "nbconvert_exporter": "python",
   "pygments_lexer": "ipython3",
   "version": "3.12.4"
  }
 },
 "nbformat": 4,
 "nbformat_minor": 5
}
