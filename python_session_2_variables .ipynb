{
 "cells": [
  {
   "cell_type": "code",
   "execution_count": 3,
   "id": "da04b138-19d7-4d0e-8519-9cf1a8807de1",
   "metadata": {},
   "outputs": [
    {
     "data": {
      "text/plain": [
       "'C:\\\\Users\\\\ASUS\\\\Documents\\\\Naresh IT\\\\Python Sessions'"
      ]
     },
     "execution_count": 3,
     "metadata": {},
     "output_type": "execute_result"
    }
   ],
   "source": [
    "import os \n",
    "os.getcwd()\n",
    "\n",
    "#get current working directory"
   ]
  },
  {
   "cell_type": "markdown",
   "id": "e93d8ce5-a689-4836-b7d3-f27e2811f2b8",
   "metadata": {},
   "source": [
    "## variables "
   ]
  },
  {
   "cell_type": "markdown",
   "id": "3d74c230-37d2-49a8-84b6-4cbe82bdd292",
   "metadata": {},
   "source": [
    "variables are used to store the value, and the values can be change"
   ]
  },
  {
   "cell_type": "code",
   "execution_count": 10,
   "id": "53dd99fc-8c75-4388-8c6d-baee2c5a87b4",
   "metadata": {},
   "outputs": [
    {
     "name": "stdout",
     "output_type": "stream",
     "text": [
      "100\n"
     ]
    }
   ],
   "source": [
    "num=100\n",
    "\n",
    "#value 100 stored in variable called num\n",
    "\n",
    "print (num)"
   ]
  },
  {
   "cell_type": "code",
   "execution_count": 12,
   "id": "5c304cc6-b058-4f11-ab60-3dcaf23c6df4",
   "metadata": {},
   "outputs": [
    {
     "name": "stdout",
     "output_type": "stream",
     "text": [
      "200\n"
     ]
    }
   ],
   "source": [
    "num =200\n",
    "print(num)"
   ]
  },
  {
   "cell_type": "code",
   "execution_count": 14,
   "id": "021adca5-8075-45f0-a669-a46807fd9bd6",
   "metadata": {},
   "outputs": [
    {
     "data": {
      "text/plain": [
       "200"
      ]
     },
     "execution_count": 14,
     "metadata": {},
     "output_type": "execute_result"
    }
   ],
   "source": [
    "NUMBER=200\n",
    "NUMBER"
   ]
  },
  {
   "cell_type": "code",
   "execution_count": 16,
   "id": "fef12933-25c4-45fe-9611-e58e003705be",
   "metadata": {},
   "outputs": [
    {
     "data": {
      "text/plain": [
       "300"
      ]
     },
     "execution_count": 16,
     "metadata": {},
     "output_type": "execute_result"
    }
   ],
   "source": [
    "number=300\n",
    "number"
   ]
  },
  {
   "cell_type": "code",
   "execution_count": 18,
   "id": "99040968-70ac-4b45-b3ef-683f5a91e097",
   "metadata": {},
   "outputs": [
    {
     "data": {
      "text/plain": [
       "(300, 200)"
      ]
     },
     "execution_count": 18,
     "metadata": {},
     "output_type": "execute_result"
    }
   ],
   "source": [
    "number,NUMBER"
   ]
  },
  {
   "cell_type": "code",
   "execution_count": 20,
   "id": "334e705d-7927-4b28-9580-564ae2bea6c8",
   "metadata": {},
   "outputs": [
    {
     "data": {
      "text/plain": [
       "300"
      ]
     },
     "execution_count": 20,
     "metadata": {},
     "output_type": "execute_result"
    }
   ],
   "source": [
    "number123=300\n",
    "number123"
   ]
  },
  {
   "cell_type": "code",
   "execution_count": 22,
   "id": "5d4baa31-1a6b-4d93-aab4-7495e054f84c",
   "metadata": {},
   "outputs": [
    {
     "ename": "SyntaxError",
     "evalue": "invalid decimal literal (359278068.py, line 1)",
     "output_type": "error",
     "traceback": [
      "\u001b[1;36m  Cell \u001b[1;32mIn[22], line 1\u001b[1;36m\u001b[0m\n\u001b[1;33m    123number=400\u001b[0m\n\u001b[1;37m      ^\u001b[0m\n\u001b[1;31mSyntaxError\u001b[0m\u001b[1;31m:\u001b[0m invalid decimal literal\n"
     ]
    }
   ],
   "source": [
    "123number=400\n",
    "123number"
   ]
  },
  {
   "cell_type": "markdown",
   "id": "66523d21-a379-42bb-91fc-b603b6d1b72e",
   "metadata": {},
   "source": [
    "number #works\n",
    "\n",
    "NUMBER #works\n",
    "\n",
    "number123 #works \n",
    "\n",
    "123number #dose not works"
   ]
  },
  {
   "cell_type": "code",
   "execution_count": 25,
   "id": "bbb86243-4037-4e20-a1f7-7b8eb49870a6",
   "metadata": {},
   "outputs": [
    {
     "data": {
      "text/plain": [
       "500"
      ]
     },
     "execution_count": 25,
     "metadata": {},
     "output_type": "execute_result"
    }
   ],
   "source": [
    "NUMBERone=500\n",
    "NUMBERone"
   ]
  },
  {
   "cell_type": "code",
   "execution_count": 27,
   "id": "ec5b7f39-2f9f-4c63-ade6-5d7c9183980b",
   "metadata": {},
   "outputs": [
    {
     "ename": "SyntaxError",
     "evalue": "invalid syntax (275804197.py, line 1)",
     "output_type": "error",
     "traceback": [
      "\u001b[1;36m  Cell \u001b[1;32mIn[27], line 1\u001b[1;36m\u001b[0m\n\u001b[1;33m    number$one=600\u001b[0m\n\u001b[1;37m          ^\u001b[0m\n\u001b[1;31mSyntaxError\u001b[0m\u001b[1;31m:\u001b[0m invalid syntax\n"
     ]
    }
   ],
   "source": [
    "number$one=600\n",
    "number$one"
   ]
  },
  {
   "cell_type": "markdown",
   "id": "6e3a3019-1ca6-499e-8704-6c976ba1abea",
   "metadata": {},
   "source": [
    "- here special characters does not works "
   ]
  },
  {
   "cell_type": "code",
   "execution_count": 30,
   "id": "4a146b55-e06a-43e6-a2ff-ffff47ffe023",
   "metadata": {},
   "outputs": [
    {
     "data": {
      "text/plain": [
       "1000"
      ]
     },
     "execution_count": 30,
     "metadata": {},
     "output_type": "execute_result"
    }
   ],
   "source": [
    "number_one=1000\n",
    "number_one"
   ]
  },
  {
   "cell_type": "markdown",
   "id": "c24c0e37-1316-4a5d-a195-f0ff660d14ea",
   "metadata": {},
   "source": [
    "here underscore is exception"
   ]
  },
  {
   "cell_type": "code",
   "execution_count": 33,
   "id": "046143d4-57fc-4028-ab0e-07c43df6554b",
   "metadata": {},
   "outputs": [
    {
     "ename": "SyntaxError",
     "evalue": "invalid syntax (3675307791.py, line 1)",
     "output_type": "error",
     "traceback": [
      "\u001b[1;36m  Cell \u001b[1;32mIn[33], line 1\u001b[1;36m\u001b[0m\n\u001b[1;33m    number one=300\u001b[0m\n\u001b[1;37m           ^\u001b[0m\n\u001b[1;31mSyntaxError\u001b[0m\u001b[1;31m:\u001b[0m invalid syntax\n"
     ]
    }
   ],
   "source": [
    "number one=300\n",
    "number one\n",
    "\n"
   ]
  },
  {
   "cell_type": "code",
   "execution_count": null,
   "id": "918da208-ebab-4dc0-884b-d5f98a1befe5",
   "metadata": {},
   "outputs": [],
   "source": [
    "if\n",
    "else\n",
    "True\n",
    "False\n",
    "for \n",
    "while\n"
   ]
  },
  {
   "cell_type": "markdown",
   "id": "8258972b-3d8a-41f6-83d2-835e6a2c378b",
   "metadata": {},
   "source": [
    "- variables can be a capital letter\n",
    "\n",
    "- variables cam be small letter\n",
    "\n",
    "- variables can be a mix of both capital and small letters\n",
    "\n",
    "- variables can be a mix of letters and number as **suffix**\n",
    "\n",
    "- variables cannot be a mix of letters and number as **prefix**\n",
    "\n",
    "- variavbles cannot be include special character except **underscore**\n",
    "\n",
    "- variables cannot be include **space between words**\n",
    "\n",
    "- only underscore also consider as variables \n",
    "\n",
    "- inbuilt keywords cannot be a variables "
   ]
  },
  {
   "cell_type": "code",
   "execution_count": 1,
   "id": "16770574-4c39-46f6-81fe-b13ff1537572",
   "metadata": {},
   "outputs": [],
   "source": [
    "_ = 600"
   ]
  },
  {
   "cell_type": "code",
   "execution_count": null,
   "id": "6cd22ba6-bf35-4ba9-8e82-3ac82b4476c3",
   "metadata": {},
   "outputs": [],
   "source": []
  }
 ],
 "metadata": {
  "kernelspec": {
   "display_name": "Python 3 (ipykernel)",
   "language": "python",
   "name": "python3"
  },
  "language_info": {
   "codemirror_mode": {
    "name": "ipython",
    "version": 3
   },
   "file_extension": ".py",
   "mimetype": "text/x-python",
   "name": "python",
   "nbconvert_exporter": "python",
   "pygments_lexer": "ipython3",
   "version": "3.12.4"
  }
 },
 "nbformat": 4,
 "nbformat_minor": 5
}
