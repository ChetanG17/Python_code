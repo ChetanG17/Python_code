{
 "cells": [
  {
   "cell_type": "markdown",
   "id": "c217c17d-ccf5-4f1c-8fab-378a109e9921",
   "metadata": {},
   "source": [
    "# DataTypes"
   ]
  },
  {
   "cell_type": "markdown",
   "id": "69161208-dcf4-4faa-b642-e7b4e75adb7b",
   "metadata": {},
   "source": [
    "- python can say data type of a value without initializing \n",
    "\n",
    "-\n",
    "\n",
    "- python has some inbuilt datatypes \n",
    "\n",
    "- int : integer\n",
    "\n",
    "- float\n",
    "\n",
    "- srt : string\n",
    "\n",
    "- bool : boolean\n",
    "\n",
    "- complex\n",
    "\n",
    "- list\n",
    "\n",
    "- tuple\n",
    "\n",
    "- dict : dictionary\n",
    "\n",
    "- set\n",
    "\n",
    "- frozenset\n",
    "\n",
    "- bytes\n",
    "\n",
    "- bytearray\n",
    "\n",
    "- memoryview"
   ]
  },
  {
   "cell_type": "markdown",
   "id": "a257f967-48ab-4a60-bba6-fae9b522ecab",
   "metadata": {},
   "source": [
    "# integer"
   ]
  },
  {
   "cell_type": "code",
   "execution_count": 4,
   "id": "457608e1-2953-4361-a925-7be69d76a2b6",
   "metadata": {},
   "outputs": [
    {
     "data": {
      "text/plain": [
       "int"
      ]
     },
     "execution_count": 4,
     "metadata": {},
     "output_type": "execute_result"
    }
   ],
   "source": [
    "num=100\n",
    "type(num)"
   ]
  },
  {
   "cell_type": "code",
   "execution_count": 6,
   "id": "5e9a0048-a852-4018-8ec6-0661d94b79ae",
   "metadata": {},
   "outputs": [
    {
     "name": "stdout",
     "output_type": "stream",
     "text": [
      "100\n"
     ]
    }
   ],
   "source": [
    "print(num)"
   ]
  },
  {
   "cell_type": "markdown",
   "id": "42260543-82c4-414c-9b55-178e44c79304",
   "metadata": {},
   "source": [
    "# binary number system"
   ]
  },
  {
   "cell_type": "markdown",
   "id": "0f81dc97-2b15-46c9-a4bf-ae2df16625b0",
   "metadata": {},
   "source": [
    "- number 0,1,2,3,4,5,6,7,8,9\n",
    "\n",
    "- binary :bi means two :0 and 1\n",
    "\n",
    "- representation is : 0b001,0b111,0b101\n",
    "\n",
    "- wrong representation is : o, 0b102"
   ]
  },
  {
   "cell_type": "code",
   "execution_count": 11,
   "id": "ba2e3c31-9e70-434f-b039-e78df5115fc9",
   "metadata": {},
   "outputs": [
    {
     "data": {
      "text/plain": [
       "7"
      ]
     },
     "execution_count": 11,
     "metadata": {},
     "output_type": "execute_result"
    }
   ],
   "source": [
    "0b111\n"
   ]
  },
  {
   "cell_type": "code",
   "execution_count": 13,
   "id": "fcec9554-5fb0-4550-9584-10ee5eb289e0",
   "metadata": {},
   "outputs": [
    {
     "data": {
      "text/plain": [
       "15"
      ]
     },
     "execution_count": 13,
     "metadata": {},
     "output_type": "execute_result"
    }
   ],
   "source": [
    "0b1111"
   ]
  },
  {
   "cell_type": "code",
   "execution_count": 15,
   "id": "765f7139-34b6-4f4c-a668-3aa0511f47f8",
   "metadata": {},
   "outputs": [
    {
     "data": {
      "text/plain": [
       "21"
      ]
     },
     "execution_count": 15,
     "metadata": {},
     "output_type": "execute_result"
    }
   ],
   "source": [
    "0b10101"
   ]
  },
  {
   "cell_type": "code",
   "execution_count": 17,
   "id": "7ea15b30-c3ac-41ed-8421-a41720427fc7",
   "metadata": {},
   "outputs": [
    {
     "data": {
      "text/plain": [
       "10"
      ]
     },
     "execution_count": 17,
     "metadata": {},
     "output_type": "execute_result"
    }
   ],
   "source": [
    "0b1010"
   ]
  },
  {
   "cell_type": "code",
   "execution_count": 21,
   "id": "3bebf1bc-3b15-40ef-9835-88428a32a9e3",
   "metadata": {},
   "outputs": [
    {
     "data": {
      "text/plain": [
       "15"
      ]
     },
     "execution_count": 21,
     "metadata": {},
     "output_type": "execute_result"
    }
   ],
   "source": [
    "0b1111"
   ]
  },
  {
   "cell_type": "code",
   "execution_count": null,
   "id": "7054ad0b-4641-4784-b626-184e94ea4c55",
   "metadata": {},
   "outputs": [],
   "source": [
    "2^2=4  2^1=2  2^0=1  \n",
    "  0      0      0     1\n",
    "  0      0      1     2\n",
    "  0      1      0     3\n",
    "  0      1      1     4\n",
    "  1      0      0     5  \n",
    "  1      0      1     6\n",
    "  1      1      0     7\n",
    "  1      1      1     8"
   ]
  },
  {
   "cell_type": "markdown",
   "id": "55f4f2be-add3-4430-a29a-267cdd3717bf",
   "metadata": {},
   "source": [
    "# octa number system\n",
    "\n",
    "- number 0,1,2,3,4,5,6,7,8,9\n",
    "\n",
    "- octa :octa means 8 :0,1,2,3,4,5,6,7\n",
    "\n",
    "- representation is : 0o453.0o123,0o477\n",
    "\n",
    "- wrong representation is : 'o' as start ,0o789"
   ]
  },
  {
   "cell_type": "code",
   "execution_count": 24,
   "id": "7bf3e63e-4cc1-4068-bbdf-1098000b9961",
   "metadata": {},
   "outputs": [
    {
     "data": {
      "text/plain": [
       "2196"
      ]
     },
     "execution_count": 24,
     "metadata": {},
     "output_type": "execute_result"
    }
   ],
   "source": [
    "0o4224"
   ]
  },
  {
   "cell_type": "markdown",
   "id": "f9b7980f-9c57-48ff-885f-2b3f857253bb",
   "metadata": {},
   "source": [
    "# Hexa number system\n",
    "\n",
    "- number 0,1,2,3,4,5,6,7,8,9\n",
    "\n",
    "- octa :octa means 8 :0,1,2,3,4,5,6,7,A=10,b=11,c=12,d=13\n",
    "\n",
    "- representation is : 0x567,0x123,0x376\n",
    "\n",
    "- wrong representation is : 'o' as start ,0h789"
   ]
  },
  {
   "cell_type": "code",
   "execution_count": 31,
   "id": "bd4de57c-4087-45f1-a4de-e5ce1f4b3b5a",
   "metadata": {},
   "outputs": [
    {
     "data": {
      "text/plain": [
       "291"
      ]
     },
     "execution_count": 31,
     "metadata": {},
     "output_type": "execute_result"
    }
   ],
   "source": [
    "0x123\n",
    "\n"
   ]
  },
  {
   "cell_type": "code",
   "execution_count": 1,
   "id": "3131d513-7228-46c4-8d6a-a2e6378a5893",
   "metadata": {},
   "outputs": [
    {
     "name": "stdout",
     "output_type": "stream",
     "text": [
      "4\n"
     ]
    }
   ],
   "source": [
    "print (4)"
   ]
  },
  {
   "cell_type": "code",
   "execution_count": 3,
   "id": "d2c8bcd6-7c00-4d1d-a1ca-487ffeb3a352",
   "metadata": {},
   "outputs": [
    {
     "data": {
      "text/plain": [
       "'hello,world'"
      ]
     },
     "execution_count": 3,
     "metadata": {},
     "output_type": "execute_result"
    }
   ],
   "source": [
    "('hello,world')"
   ]
  },
  {
   "cell_type": "code",
   "execution_count": 5,
   "id": "f04cb380-9317-48eb-9f51-ba1ededbf582",
   "metadata": {},
   "outputs": [
    {
     "data": {
      "text/plain": [
       "12"
      ]
     },
     "execution_count": 5,
     "metadata": {},
     "output_type": "execute_result"
    }
   ],
   "source": [
    "(12)"
   ]
  },
  {
   "cell_type": "markdown",
   "id": "256a5110-07c6-4866-8f50-cbfcfd09f972",
   "metadata": {},
   "source": [
    "# float\n",
    "\n",
    "- float number means contionus points \n",
    "\n",
    "- flaot number means having some decimals\n",
    "\n",
    "- integer numver means discreat points  "
   ]
  },
  {
   "cell_type": "code",
   "execution_count": 9,
   "id": "98e49f0b-fea0-4b24-a4a9-0cdf06341b26",
   "metadata": {},
   "outputs": [
    {
     "data": {
      "text/plain": [
       "float"
      ]
     },
     "execution_count": 9,
     "metadata": {},
     "output_type": "execute_result"
    }
   ],
   "source": [
    "number=100.3\n",
    "type(number)"
   ]
  },
  {
   "cell_type": "markdown",
   "id": "8eff617f-7cb3-435d-bfaf-55e05317e955",
   "metadata": {},
   "source": [
    "- float point can also represent as exponential format 'e'"
   ]
  },
  {
   "cell_type": "code",
   "execution_count": 16,
   "id": "a8092a77-f786-48eb-80ad-826a88249301",
   "metadata": {},
   "outputs": [
    {
     "data": {
      "text/plain": [
       "1000.0"
      ]
     },
     "execution_count": 16,
     "metadata": {},
     "output_type": "execute_result"
    }
   ],
   "source": [
    "1e1  #1*10\n",
    "1e2  #1*100\n",
    "1e3  #1*1000"
   ]
  },
  {
   "cell_type": "code",
   "execution_count": 18,
   "id": "15f91059-7d8d-4bf9-8a38-9d88bb29ba5b",
   "metadata": {},
   "outputs": [
    {
     "data": {
      "text/plain": [
       "200.0"
      ]
     },
     "execution_count": 18,
     "metadata": {},
     "output_type": "execute_result"
    }
   ],
   "source": [
    "2e2  #2*100"
   ]
  },
  {
   "cell_type": "code",
   "execution_count": 22,
   "id": "43bfdaf4-b266-4664-a1db-30032689a048",
   "metadata": {},
   "outputs": [
    {
     "data": {
      "text/plain": [
       "1000.0"
      ]
     },
     "execution_count": 22,
     "metadata": {},
     "output_type": "execute_result"
    }
   ],
   "source": [
    "1e+1  #1*10\n",
    "1e+2  #1*100 \n",
    "1e+3  #1*1000  same value"
   ]
  },
  {
   "cell_type": "code",
   "execution_count": 24,
   "id": "18c9f8a0-6866-4d97-a19b-afc22a0ae484",
   "metadata": {},
   "outputs": [
    {
     "name": "stdout",
     "output_type": "stream",
     "text": [
      "10.0\n",
      "100.0\n",
      "1000.0\n"
     ]
    }
   ],
   "source": [
    "print(1e+1)  \n",
    "print(1e+2)   \n",
    "print(1e+3) "
   ]
  },
  {
   "cell_type": "code",
   "execution_count": 26,
   "id": "eb13ef83-8ea8-4a38-a806-8e5061192580",
   "metadata": {},
   "outputs": [
    {
     "data": {
      "text/plain": [
       "(0.1, 0.01, 0.001)"
      ]
     },
     "execution_count": 26,
     "metadata": {},
     "output_type": "execute_result"
    }
   ],
   "source": [
    "1e-1,1e-2,1e-3"
   ]
  },
  {
   "cell_type": "code",
   "execution_count": 28,
   "id": "47306159-a0d9-45a8-ad35-b15dc0106306",
   "metadata": {},
   "outputs": [
    {
     "name": "stdout",
     "output_type": "stream",
     "text": [
      "0.1\n",
      "0.01\n",
      "0.001\n"
     ]
    }
   ],
   "source": [
    "print(1e-1)  #1/10\n",
    "print(1e-2)  #1/100\n",
    "print(1e-3)  #1/1000"
   ]
  },
  {
   "cell_type": "code",
   "execution_count": 32,
   "id": "bbf43e9f-e43d-4510-9930-be008dada2b4",
   "metadata": {},
   "outputs": [
    {
     "data": {
      "text/plain": [
       "1.12e-10"
      ]
     },
     "execution_count": 32,
     "metadata": {},
     "output_type": "execute_result"
    }
   ],
   "source": [
    "1.12e-10 "
   ]
  },
  {
   "cell_type": "markdown",
   "id": "56cab4cb-cf1b-4145-af1f-9ca4e26dc900",
   "metadata": {},
   "source": [
    "|# Strings\n",
    "\n",
    "- strings means english character \n",
    "\n",
    "- "
   ]
  },
  {
   "cell_type": "code",
   "execution_count": 43,
   "id": "ec8569c9-a849-471b-b4b0-ddc403306085",
   "metadata": {},
   "outputs": [
    {
     "data": {
      "text/plain": [
       "str"
      ]
     },
     "execution_count": 43,
     "metadata": {},
     "output_type": "execute_result"
    }
   ],
   "source": [
    "name=\"python\"\n",
    "type(name)"
   ]
  },
  {
   "cell_type": "code",
   "execution_count": 41,
   "id": "43d144e0-3b1e-47af-8a85-88646d113c45",
   "metadata": {},
   "outputs": [
    {
     "data": {
      "text/plain": [
       "str"
      ]
     },
     "execution_count": 41,
     "metadata": {},
     "output_type": "execute_result"
    }
   ],
   "source": [
    "number='10'\n",
    "type(number)"
   ]
  },
  {
   "cell_type": "code",
   "execution_count": 45,
   "id": "e82d4750-115c-4bb8-8930-407819bb62c6",
   "metadata": {},
   "outputs": [
    {
     "name": "stdout",
     "output_type": "stream",
     "text": [
      "hello i like 'python'\n"
     ]
    }
   ],
   "source": [
    "sen1=\"hello i like 'python'\"\n",
    "print(sen1)\n"
   ]
  },
  {
   "cell_type": "code",
   "execution_count": 47,
   "id": "08bdfc88-1204-46e9-94e0-5eef6725fda7",
   "metadata": {},
   "outputs": [
    {
     "name": "stdout",
     "output_type": "stream",
     "text": [
      "hello i like \"python\"\n"
     ]
    }
   ],
   "source": [
    "sen2='hello i like \"python\"'\n",
    "print(sen2)\n"
   ]
  },
  {
   "cell_type": "markdown",
   "id": "8dec71f5-ef7d-4934-9c73-b025fc7ca74b",
   "metadata": {},
   "source": [
    "- entire sentence in single quotes , then use the double quotes to highlite the word \n",
    "\n",
    "- entire sentence in double quotes , then use the single quotes to highlite the word "
   ]
  },
  {
   "cell_type": "code",
   "execution_count": 56,
   "id": "4369e2a3-6653-462b-98d7-f71cb90ade70",
   "metadata": {},
   "outputs": [
    {
     "name": "stdout",
     "output_type": "stream",
     "text": [
      "hello good morning \n",
      "how are you\n"
     ]
    }
   ],
   "source": [
    "statement=\"\"\"hello good morning \n",
    "how are you\"\"\"\n",
    "print(statement)"
   ]
  },
  {
   "cell_type": "markdown",
   "id": "0a2c89fe-0e2f-4562-9bdb-51800db65905",
   "metadata": {},
   "source": [
    "# Doc String \n",
    "\n",
    "- if you want to conway information to the user\n",
    "\n",
    "- we will write the statement before coding part \n",
    "\n",
    "- is called Doc String \n",
    "\n",
    "- in jupyter notebook to convey information we have **markdown**\n",
    "\n",
    "- but in vs code we dont have  a markdown option \n",
    "\n",
    "- we convey the information by using **triple quotes**\n",
    "\n",
    "- if we see anywhere triple quotes mean the user trying to convey the information "
   ]
  },
  {
   "cell_type": "code",
   "execution_count": 59,
   "id": "3a097999-0e94-4101-924d-d198abedec9d",
   "metadata": {},
   "outputs": [
    {
     "data": {
      "text/plain": [
       "'\\n hi my name is chetan\\n  '"
      ]
     },
     "execution_count": 59,
     "metadata": {},
     "output_type": "execute_result"
    }
   ],
   "source": [
    "\"\"\"\n",
    " hi my name is chetan\n",
    "  \"\"\""
   ]
  },
  {
   "cell_type": "markdown",
   "id": "8eda43a3-8ec8-48db-bbaf-5fadcaaeea3d",
   "metadata": {},
   "source": [
    "# Boolean"
   ]
  },
  {
   "cell_type": "code",
   "execution_count": 63,
   "id": "62193494-626d-439c-a357-58bad487de01",
   "metadata": {},
   "outputs": [
    {
     "data": {
      "text/plain": [
       "bool"
      ]
     },
     "execution_count": 63,
     "metadata": {},
     "output_type": "execute_result"
    }
   ],
   "source": [
    "value=True\n",
    "type(value)"
   ]
  },
  {
   "cell_type": "code",
   "execution_count": 65,
   "id": "cbd5a987-4010-4264-a036-dee10966913c",
   "metadata": {},
   "outputs": [
    {
     "data": {
      "text/plain": [
       "bool"
      ]
     },
     "execution_count": 65,
     "metadata": {},
     "output_type": "execute_result"
    }
   ],
   "source": [
    "value=False\n",
    "type(value)"
   ]
  },
  {
   "cell_type": "code",
   "execution_count": 67,
   "id": "7eb628e7-37b4-46b7-8397-a754477b49b0",
   "metadata": {},
   "outputs": [],
   "source": [
    "true='True'\n",
    "true=True\n",
    "true=10\n",
    "\n"
   ]
  },
  {
   "cell_type": "code",
   "execution_count": null,
   "id": "a7512cca-a830-4849-8c51-066c33b33c5f",
   "metadata": {},
   "outputs": [],
   "source": []
  }
 ],
 "metadata": {
  "kernelspec": {
   "display_name": "Python 3 (ipykernel)",
   "language": "python",
   "name": "python3"
  },
  "language_info": {
   "codemirror_mode": {
    "name": "ipython",
    "version": 3
   },
   "file_extension": ".py",
   "mimetype": "text/x-python",
   "name": "python",
   "nbconvert_exporter": "python",
   "pygments_lexer": "ipython3",
   "version": "3.12.4"
  }
 },
 "nbformat": 4,
 "nbformat_minor": 5
}
