{
 "cells": [
  {
   "cell_type": "code",
   "execution_count": 1,
   "id": "6f1c8a77-d021-4f56-a51c-5afeec55a926",
   "metadata": {},
   "outputs": [
    {
     "data": {
      "text/plain": [
       "10"
      ]
     },
     "execution_count": 1,
     "metadata": {},
     "output_type": "execute_result"
    }
   ],
   "source": [
    "a=10\n",
    "a"
   ]
  },
  {
   "cell_type": "code",
   "execution_count": 3,
   "id": "d089e9d5-ac6d-49e7-a775-a89c07b0afa8",
   "metadata": {},
   "outputs": [
    {
     "data": {
      "text/plain": [
       "30"
      ]
     },
     "execution_count": 3,
     "metadata": {},
     "output_type": "execute_result"
    }
   ],
   "source": [
    "a=10\n",
    "b=20\n",
    "a+b"
   ]
  },
  {
   "cell_type": "code",
   "execution_count": 5,
   "id": "7d265cd3-42b2-485c-9b4c-5980205db093",
   "metadata": {},
   "outputs": [
    {
     "data": {
      "text/plain": [
       "100"
      ]
     },
     "execution_count": 5,
     "metadata": {},
     "output_type": "execute_result"
    }
   ],
   "source": [
    "n1=100\n",
    "n1\n"
   ]
  },
  {
   "cell_type": "code",
   "execution_count": 7,
   "id": "170b6882-c796-4f09-9f73-5eadfff60bfc",
   "metadata": {},
   "outputs": [
    {
     "data": {
      "text/plain": [
       "30"
      ]
     },
     "execution_count": 7,
     "metadata": {},
     "output_type": "execute_result"
    }
   ],
   "source": [
    "a=10\n",
    "a+b\n"
   ]
  },
  {
   "cell_type": "code",
   "execution_count": null,
   "id": "e6965a71-5ddd-466e-bd52-137654125ad0",
   "metadata": {},
   "outputs": [],
   "source": []
  },
  {
   "cell_type": "markdown",
   "id": "4f069e52-9873-4f7a-bc7e-3f992cc88aab",
   "metadata": {},
   "source": [
    "# "
   ]
  },
  {
   "cell_type": "code",
   "execution_count": 12,
   "id": "5b18070e-4bbf-4fa4-aeb9-750a785ebda8",
   "metadata": {},
   "outputs": [
    {
     "data": {
      "text/plain": [
       "30"
      ]
     },
     "execution_count": 12,
     "metadata": {},
     "output_type": "execute_result"
    }
   ],
   "source": [
    "a=10\n",
    "a+b"
   ]
  },
  {
   "cell_type": "markdown",
   "id": "8e241020-93f4-4b89-9b1d-a7fda6fca0e6",
   "metadata": {},
   "source": [
    "- mt name is chetan\n",
    " \n",
    "- today i am learning python"
   ]
  },
  {
   "cell_type": "markdown",
   "id": "2849846b-7801-4628-af25-dd1999c1f8fb",
   "metadata": {},
   "source": [
    "- my name is chetan \n",
    "\n",
    "- today i am learning python \n",
    "\n",
    "- select a particluar cell\n",
    "\n"
   ]
  },
  {
   "cell_type": "markdown",
   "id": "2a5def58-3e16-49dd-85dc-fe66d0c77976",
   "metadata": {},
   "source": [
    "- i like python"
   ]
  },
  {
   "cell_type": "markdown",
   "id": "b139e42c-60ab-4ce0-a4cd-f88af6044e86",
   "metadata": {},
   "source": [
    "- esc+m shifts to code mode to markdown mode\n",
    "\n",
    "- esc+y shifts to markdown to code mode\n",
    "\n",
    "- when we are in markdown mode the brackest will not appear"
   ]
  },
  {
   "cell_type": "markdown",
   "id": "1f2973d4-a69f-4e27-a840-a2bcdee6d1a6",
   "metadata": {},
   "source": [
    "  - mblue color bar indicates the particular cell is selected"
   ]
  },
  {
   "cell_type": "markdown",
   "id": "f395f197-0e0d-404b-9fdc-b4da841c8102",
   "metadata": {},
   "source": [
    "## python\n",
    " - when we use ash symbol in code mode it behaves as comments \n",
    " - when we use the same in markdown mide it behaves as title "
   ]
  },
  {
   "cell_type": "markdown",
   "id": "e5b4bb65-f29e-4a9d-93bf-0420bbe3d8ec",
   "metadata": {},
   "source": [
    "- now we will insert image \n",
    "\n",
    "- it will work only for some people \n",
    "m\n"
   ]
  },
  {
   "cell_type": "markdown",
   "id": "e950411e-a035-4406-9fae-a34773c4de2a",
   "metadata": {},
   "source": [
    "<img id=\"dimg_cAwZZ5bVMaSaseMP6veG4Qc_269\" src=\"data:image/jpeg;base64,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\" class=\"YQ4gaf\" height=\"155\" style=\"object-position:50% 100%\" width=\"325\" alt=\"best programming languages ...\" data-csiid=\"cAwZZ5bVMaSaseMP6veG4Qc_22\" data-atf=\"1\">"
   ]
  },
  {
   "cell_type": "markdown",
   "id": "66d0fca8-2813-4de5-a431-3ab56f517df0",
   "metadata": {},
   "source": [
    "to print the image \n",
    "- the shortcut is\n",
    "  \n",
    " CTLR+A\n",
    "\n",
    " CTRL+C\n",
    " \n",
    " CTRL+V\n",
    " \n",
    " ESC+M\n",
    " \n",
    " SHIFT+ENTER "
   ]
  },
  {
   "cell_type": "markdown",
   "id": "97ef3de7-f0f6-4e18-88c6-212516518b60",
   "metadata": {},
   "source": [
    "<img id=\"dimg_cAwZZ5bVMaSaseMP6veG4Qc_85\" src=\"data:image/jpeg;base64,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\" class=\"YQ4gaf\" height=\"168\" style=\"object-position:85% 18%\" width=\"300\" alt=\"Python Tutorial for Absolute Beginners ...\" data-csiid=\"cAwZZ5bVMaSaseMP6veG4Qc_39\" data-atf=\"4\">"
   ]
  },
  {
   "cell_type": "markdown",
   "id": "2ff36bfe-5cce-450c-bef2-f5015414b364",
   "metadata": {},
   "source": [
    "<img src=\"https://www.deepseadev.com/wp-content/uploads/2024/06/uses-of-python.jpg\" jsaction=\"\" class=\"sFlh5c FyHeAf iPVvYb\" style=\"max-width: 850px; height: 234px; margin: 0px; width: 351px;\" alt=\"The versatile uses of Python programming language | DeepSea\" jsname=\"kn3ccd\" aria-hidden=\"false\">"
   ]
  },
  {
   "cell_type": "code",
   "execution_count": null,
   "id": "857c452e-1168-4d87-9280-bb694a9e5c39",
   "metadata": {},
   "outputs": [],
   "source": []
  }
 ],
 "metadata": {
  "kernelspec": {
   "display_name": "Python 3 (ipykernel)",
   "language": "python",
   "name": "python3"
  },
  "language_info": {
   "codemirror_mode": {
    "name": "ipython",
    "version": 3
   },
   "file_extension": ".py",
   "mimetype": "text/x-python",
   "name": "python",
   "nbconvert_exporter": "python",
   "pygments_lexer": "ipython3",
   "version": "3.12.4"
  }
 },
 "nbformat": 4,
 "nbformat_minor": 5
}
